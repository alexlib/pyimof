{
  "cells": [
    {
      "cell_type": "code",
      "execution_count": null,
      "metadata": {
        "collapsed": false
      },
      "outputs": [],
      "source": [
        "%matplotlib inline"
      ]
    },
    {
      "cell_type": "markdown",
      "metadata": {},
      "source": [
        "\nTV-L1 vs iLK\n============\n\nComparison the TV-L1 and iLK methods for the optical flow estimation.\n"
      ]
    },
    {
      "cell_type": "code",
      "execution_count": null,
      "metadata": {
        "collapsed": false
      },
      "outputs": [],
      "source": [
        "from time import time\nimport numpy as np\nimport matplotlib.pyplot as plt\nimport pyimof\n\n\n# --- Load data\n\nI0, I1 = pyimof.data.hydrangea()\n\nfig = plt.figure(figsize=((8, 7)))\nax1, ax2, ax3, ax4 = fig.subplots(2, 2).ravel()\ncmap = 'middlebury'\nplt.tight_layout()\n\n# --- TV-L1\n\nt0 = time()\nu, v = pyimof.solvers.tvl1(I0, I1)\nt1 = time()\n\nnorm = np.sqrt(u*u + v*v)\n\npyimof.display.quiver(u, v, c=norm, bg=I0, ax=ax1, bg_cmap='gray',\n                      vec_cmap='jet')\npyimof.display.plot(u, v, ax=ax2, cmap=cmap)\n\nprint(\"TV-L1 processing time: {:02f}sec\".format(t1-t0))\n\n# --- iLK\n\nt0 = time()\nu, v = pyimof.solvers.ilk(I0, I1)\nt1 = time()\n\nnorm = np.sqrt(u*u + v*v)\n\npyimof.display.quiver(u, v, c=norm, bg=norm, ax=ax3, vec_cmap='Greys')\npyimof.display.plot(u, v, ax=ax4, cmap=cmap)\n\nprint(\"ILK processing time: {:02f}sec\".format(t1-t0))\n\nplt.show()"
      ]
    }
  ],
  "metadata": {
    "kernelspec": {
      "display_name": "Python 3",
      "language": "python",
      "name": "python3"
    },
    "language_info": {
      "codemirror_mode": {
        "name": "ipython",
        "version": 3
      },
      "file_extension": ".py",
      "mimetype": "text/x-python",
      "name": "python",
      "nbconvert_exporter": "python",
      "pygments_lexer": "ipython3",
      "version": "3.7.3"
    }
  },
  "nbformat": 4,
  "nbformat_minor": 0
}